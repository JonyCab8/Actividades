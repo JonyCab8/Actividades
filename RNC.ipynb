{
  "nbformat": 4,
  "nbformat_minor": 0,
  "metadata": {
    "colab": {
      "provenance": []
    },
    "kernelspec": {
      "name": "python3",
      "display_name": "Python 3"
    },
    "language_info": {
      "name": "python"
    }
  },
  "cells": [
    {
      "cell_type": "code",
      "execution_count": null,
      "metadata": {
        "id": "IX66eSkRV15R"
      },
      "outputs": [],
      "source": [
        "#Actividad 6\n",
        "#Nombre: Jonathan Ramón Cabrera\n",
        "#Matricula: 2020547\n",
        "#Hora: N1"
      ]
    },
    {
      "cell_type": "code",
      "source": [
        "#Librerias\n",
        "import tensorflow as tf\n",
        "from tensorflow.keras.datasets import mnist\n",
        "import numpy as np"
      ],
      "metadata": {
        "id": "68l6ALShYxQj"
      },
      "execution_count": null,
      "outputs": []
    },
    {
      "cell_type": "code",
      "source": [
        "# Cargar los datos\n",
        " (train_data, train_labels), (test_data, test_labels) = mnist.load_data()\n",
        "train_data = train_data / 255.0\n",
        "test_data = test_data / 255.0"
      ],
      "metadata": {
        "id": "KNKcFRBqadVx"
      },
      "execution_count": null,
      "outputs": []
    },
    {
      "cell_type": "code",
      "source": [
        "model = tf.keras.Sequential([\n",
        "    tf.keras.layers.Flatten(input_shape=(28, 28)),\n",
        "    tf.keras.layers.Dense(128, activation='relu'),\n",
        "    tf.keras.layers.Dense(10, activation='softmax')\n",
        "])"
      ],
      "metadata": {
        "id": "8q1Ax_jndOed"
      },
      "execution_count": null,
      "outputs": []
    },
    {
      "cell_type": "code",
      "source": [
        "# Entrenar el modelo\n",
        "model.compile(optimizer='adam',\n",
        "              loss='sparse_categorical_crossentropy',\n",
        "              metrics=['accuracy'])"
      ],
      "metadata": {
        "id": "HzWSWjW-doXn"
      },
      "execution_count": null,
      "outputs": []
    },
    {
      "cell_type": "code",
      "source": [
        "model.fit(train_data, train_labels, epochs=5)"
      ],
      "metadata": {
        "colab": {
          "base_uri": "https://localhost:8080/"
        },
        "id": "_6Td455Jdts2",
        "outputId": "3c0bcdd8-af8c-485a-d729-f1eb61b3bc4a"
      },
      "execution_count": null,
      "outputs": [
        {
          "output_type": "stream",
          "name": "stdout",
          "text": [
            "Epoch 1/5\n",
            "1875/1875 [==============================] - 6s 3ms/step - loss: 0.2596 - accuracy: 0.9257\n",
            "Epoch 2/5\n",
            "1875/1875 [==============================] - 7s 3ms/step - loss: 0.1114 - accuracy: 0.9676\n",
            "Epoch 3/5\n",
            "1875/1875 [==============================] - 5s 3ms/step - loss: 0.0758 - accuracy: 0.9772\n",
            "Epoch 4/5\n",
            "1875/1875 [==============================] - 9s 5ms/step - loss: 0.0579 - accuracy: 0.9825\n",
            "Epoch 5/5\n",
            "1875/1875 [==============================] - 5s 3ms/step - loss: 0.0446 - accuracy: 0.9859\n"
          ]
        },
        {
          "output_type": "execute_result",
          "data": {
            "text/plain": [
              "<keras.src.callbacks.History at 0x7ff3fcd2bcd0>"
            ]
          },
          "metadata": {},
          "execution_count": 68
        }
      ]
    },
    {
      "cell_type": "code",
      "source": [
        "# Testear el modelo\n",
        "test_loss, test_acc = model.evaluate(test_data, test_labels)\n",
        "print('Exactitud de prueba:', test_acc)"
      ],
      "metadata": {
        "colab": {
          "base_uri": "https://localhost:8080/"
        },
        "id": "d6v_T6aWd-nh",
        "outputId": "cd86e72a-98c5-498d-b51b-c28f2db5b9f9"
      },
      "execution_count": null,
      "outputs": [
        {
          "output_type": "stream",
          "name": "stdout",
          "text": [
            "313/313 [==============================] - 1s 2ms/step - loss: 0.0726 - accuracy: 0.9766\n",
            "Exactitud de prueba: 0.9765999913215637\n"
          ]
        }
      ]
    },
    {
      "cell_type": "code",
      "source": [
        "predictions = model.predict(test_data[:5])\n",
        "predicted_labels = tf.argmax(predictions, axis=1).numpy()\n",
        "true_labels = test_labels[:5]"
      ],
      "metadata": {
        "colab": {
          "base_uri": "https://localhost:8080/"
        },
        "id": "72rn3P0YfFkP",
        "outputId": "86f79cf9-7159-48d1-87ee-e2515d0c2315"
      },
      "execution_count": null,
      "outputs": [
        {
          "output_type": "stream",
          "name": "stdout",
          "text": [
            "1/1 [==============================] - 0s 25ms/step\n"
          ]
        }
      ]
    },
    {
      "cell_type": "code",
      "source": [
        "# Predicciones\n",
        "predictions = model.predict(test_data[:5])\n",
        "for i in range(5):\n",
        "    predicted_label = tf.argmax(predictions[i]).numpy()\n",
        "    true_label = test_labels[i]\n",
        "    print(\"Predicción:\", predicted_label, \"Valor real:\", true_label)"
      ],
      "metadata": {
        "colab": {
          "base_uri": "https://localhost:8080/"
        },
        "id": "jNjCPOosfiy-",
        "outputId": "418303e3-e6bb-4b95-cfc4-855ebb5fe300"
      },
      "execution_count": null,
      "outputs": [
        {
          "output_type": "stream",
          "name": "stdout",
          "text": [
            "1/1 [==============================] - 0s 22ms/step\n",
            "Predicción: 7 Valor real: 7\n",
            "Predicción: 2 Valor real: 2\n",
            "Predicción: 1 Valor real: 1\n",
            "Predicción: 0 Valor real: 0\n",
            "Predicción: 4 Valor real: 4\n"
          ]
        }
      ]
    },
    {
      "cell_type": "code",
      "source": [
        "#Preguntas de la actividad\n",
        "\n",
        "#¿Cuántas épocas usaste para mejorar el rendimiento del modelo en comparación con la red neuronal prealimentada de la actividad 5?\n",
        "# Respuesta: Fueron las mismas que en la red neuronal anterior\n",
        "\n",
        "#¿Obtuviste un mejor rendimiento con este modelo o con el de la actividad 5? ¿Por qué?\n",
        "#Respuesta: Sí, debido a que las respuestas del codgio fueron mas simples"
      ],
      "metadata": {
        "id": "2auRPA55r65K"
      },
      "execution_count": null,
      "outputs": []
    }
  ]
}